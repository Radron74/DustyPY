{
 "cells": [
  {
   "cell_type": "markdown",
   "metadata": {},
   "source": [
    "# Example Jupyter Notebook\n",
    "\n",
    "Here I present an exemple of how to use DustyPY. In this tutorial we will use Betelgeuse as an exemple."
   ]
  },
  {
   "cell_type": "markdown",
   "metadata": {},
   "source": [
    "### Importation\n",
    "\n",
    "The first thing to do is to create your model. In the case of Betelgeuse, we have a single star with a Temperature around 3500 K:\n"
   ]
  },
  {
   "cell_type": "code",
   "execution_count": 1,
   "metadata": {},
   "outputs": [],
   "source": [
    "from DustyPY.stars import Star\n",
    "\n",
    "S = Star(Name='E1',Temperature=3500,Luminosity=1)"
   ]
  },
  {
   "cell_type": "markdown",
   "metadata": {},
   "source": [
    "Note: For a single star, the Luminosity must always be 1 as it is the contribution of this star to the total luminosity of the model."
   ]
  },
  {
   "cell_type": "markdown",
   "metadata": {},
   "source": [
    "Then we need to create the dust around. We refer to this paper for the dust composition and grain size distribution [Cannon et al. 2023](https://ui.adsabs.harvard.edu/abs/2023A&A...675A..46C)"
   ]
  },
  {
   "cell_type": "markdown",
   "metadata": {},
   "source": []
  },
  {
   "cell_type": "code",
   "execution_count": 2,
   "metadata": {},
   "outputs": [],
   "source": [
    "from DustyPY.stars import Dust\n",
    "\n",
    "Composition = {'Al2O3-comp':0.2,'MgFeSiO4':0.16,'Ca2Al2SiO7':0.64}\n",
    "DustSize = {'amin' : 0.01, 'amax': 1}  #Size in microns\n",
    "tau = 0.1 #Optical depth of the dust shell at 0.55 microns to be fitted\n",
    "\n",
    "dust = Dust(Composition=Composition, DustSize=DustSize, tau=tau)"
   ]
  },
  {
   "cell_type": "markdown",
   "metadata": {},
   "source": [
    "With this we can create our model with a distance of 197 pc [Graham et al. 2008](https://iopscience.iop.org/article/10.1088/0004-6256/135/4/1430):"
   ]
  },
  {
   "cell_type": "code",
   "execution_count": 3,
   "metadata": {},
   "outputs": [],
   "source": [
    "from DustyPY.stars import Model\n",
    "\n",
    "model = Model(Name='Betelgeuse', NbStar=1, Stars=[S], Dust=dust, distance = 197.0) "
   ]
  },
  {
   "cell_type": "markdown",
   "metadata": {},
   "source": [
    "Then we need to create the dusty object and give him the dusty PATH on your machine and the model:"
   ]
  },
  {
   "cell_type": "code",
   "execution_count": 4,
   "metadata": {},
   "outputs": [
    {
     "name": "stdout",
     "output_type": "stream",
     "text": [
      "/Users/gabriel/Documents/DustyPY/jupyter\n"
     ]
    },
    {
     "name": "stderr",
     "output_type": "stream",
     "text": [
      "cp: /Users/gabriel/miniconda3/envs/SFit/lib/python3.13/site-packages/DustyPY/dusty.py../Mod.inp: No such file or directory\n"
     ]
    }
   ],
   "source": [
    "from DustyPY.dusty import Dusty\n",
    "\n",
    "Path = '/Users/gabriel/Documents/Stage/code/dustyV2/' #Replace with the path to the dusty directory\n",
    "\n",
    "dusty = Dusty(PATH=Path, Model=model)"
   ]
  },
  {
   "cell_type": "code",
   "execution_count": 5,
   "metadata": {},
   "outputs": [
    {
     "name": "stdout",
     "output_type": "stream",
     "text": [
      " _RAJ2000   _DEJ2000          _tabname        ...  sed_flux sed_eflux sed_filter\n",
      "   deg        deg                             ...     Jy        Jy              \n",
      "---------- ---------- ----------------------- ... --------- --------- ----------\n",
      " 88.792920   7.406897            I/238A/picat ...   2.3e+03        --  Johnson:V\n",
      " 88.792939   7.407063          I/239/hip_main ...   2.4e+03        --  Johnson:V\n",
      " 88.792939   7.407063          I/239/hip_main ...  1.85e+03        30     HIP:VT\n",
      " 88.792939   7.407063          I/239/hip_main ...       286         2     HIP:BT\n",
      " 88.792939   7.407063          I/239/hip_main ...  2.37e+03        50     HIP:Hp\n",
      " 88.792940   7.407061          I/239/tyc_main ...  2.15e+03        --  Johnson:V\n",
      " 88.792940   7.407061          I/239/tyc_main ...  1.85e+03        30     HIP:VT\n",
      " 88.792940   7.407061          I/239/tyc_main ...       286         2     HIP:BT\n",
      " 88.792937   7.407064          I/270/cpirss01 ...      95.9        --   IRAS:100\n",
      "       ...        ...                     ... ...       ...       ...        ...\n",
      " 88.792939   7.407063 J/PASP/120/1128/catalog ...  1.85e+03        30     HIP:VT\n",
      " 88.792939   7.407063 J/PASP/120/1128/catalog ...       286         3     HIP:BT\n",
      " 88.792939   7.407063  J/MNRAS/471/770/table2 ...  1.24e+03        --    IRAS:25\n",
      " 88.792939   7.407063  J/MNRAS/471/770/table2 ...  3.18e+03        --    IRAS:12\n",
      " 88.792939   7.407063  J/MNRAS/471/770/table2 ...  1.71e+04        -- Johnson:L'\n",
      " 88.792939   7.407063  J/MNRAS/471/770/table2 ...  2.37e+03        --     HIP:Hp\n",
      " 88.792939   7.407064      J/AN/341/827/brahe ...  1.51e+03        --  Johnson:I\n",
      " 88.792939   7.407064    J/AN/341/827/ptolemy ...  1.51e+03        --  Johnson:I\n",
      " 88.792939   7.407064       J/AN/341/827/sufi ...  1.51e+03        --  Johnson:I\n",
      " 88.792939   7.407064  J/other/NatAs/4.03/lit ...   2.4e+03        --  Johnson:V\n",
      "Length = 251 rows\n"
     ]
    }
   ],
   "source": [
    "from DustyPY.Data import Data\n",
    "\n",
    "Dat = Data()\n",
    "\n",
    "table = Dat.QuerryVizierData(radius = 5, target='Betelgeuse')\n",
    "print(table)"
   ]
  },
  {
   "cell_type": "code",
   "execution_count": null,
   "metadata": {},
   "outputs": [],
   "source": []
  }
 ],
 "metadata": {
  "kernelspec": {
   "display_name": "SFit",
   "language": "python",
   "name": "python3"
  },
  "language_info": {
   "codemirror_mode": {
    "name": "ipython",
    "version": 3
   },
   "file_extension": ".py",
   "mimetype": "text/x-python",
   "name": "python",
   "nbconvert_exporter": "python",
   "pygments_lexer": "ipython3",
   "version": "3.13.0"
  }
 },
 "nbformat": 4,
 "nbformat_minor": 2
}
