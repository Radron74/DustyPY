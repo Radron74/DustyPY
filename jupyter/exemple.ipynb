{
 "cells": [
  {
   "cell_type": "markdown",
   "metadata": {},
   "source": [
    "# Example Jupyter Notebook\n",
    "\n",
    "Here I present an exemple of how to use DustyPY. In this tutorial we will use Betelgeuse as an exemple."
   ]
  },
  {
   "cell_type": "markdown",
   "metadata": {},
   "source": [
    "### Set up a Model\n",
    "\n",
    "The first thing to do is to create your model. In the case of Betelgeuse, we have a single star with a Temperature around 3500 K:\n"
   ]
  },
  {
   "cell_type": "code",
   "execution_count": 1,
   "metadata": {},
   "outputs": [],
   "source": [
    "from DustyPY.stars import Star\n",
    "\n",
    "S = Star(Name='E1',Temperature=3500,Luminosity=1)"
   ]
  },
  {
   "cell_type": "markdown",
   "metadata": {},
   "source": [
    "Note: For a single star, the Luminosity must always be 1 as it is the contribution of this star to the total luminosity of the model."
   ]
  },
  {
   "cell_type": "markdown",
   "metadata": {},
   "source": [
    "Then we need to create the dust around. We refer to this paper for the dust composition and grain size distribution [Cannon et al. 2023](https://ui.adsabs.harvard.edu/abs/2023A&A...675A..46C)"
   ]
  },
  {
   "cell_type": "markdown",
   "metadata": {},
   "source": []
  },
  {
   "cell_type": "code",
   "execution_count": 2,
   "metadata": {},
   "outputs": [],
   "source": [
    "from DustyPY.stars import Dust\n",
    "\n",
    "Composition = {'Al2O3-comp':0.2,'MgFeSiO4':0.16,'Ca2Al2SiO7':0.64}\n",
    "DustSize = {'amin' : 0.01, 'amax': 1}  #Size in microns\n",
    "tau = 0.1 #Optical depth of the dust shell at 0.55 microns to be fitted\n",
    "\n",
    "dust = Dust(Composition=Composition, DustSize=DustSize, tau=tau)"
   ]
  },
  {
   "cell_type": "markdown",
   "metadata": {},
   "source": [
    "With this we can create our model with a distance of 197 pc [Graham et al. 2008](https://iopscience.iop.org/article/10.1088/0004-6256/135/4/1430):"
   ]
  },
  {
   "cell_type": "code",
   "execution_count": 3,
   "metadata": {},
   "outputs": [],
   "source": [
    "from DustyPY.stars import Model\n",
    "\n",
    "model = Model(Name='Betelgeuse', NbStar=1, Stars=[S], Dust=dust, distance = 197.0) "
   ]
  },
  {
   "cell_type": "markdown",
   "metadata": {},
   "source": [
    "Then we need to create the dusty object and give him the dusty PATH on your machine and the model:"
   ]
  },
  {
   "cell_type": "code",
   "execution_count": 4,
   "metadata": {},
   "outputs": [],
   "source": [
    "from DustyPY.dusty import Dusty\n",
    "\n",
    "Path = '/Users/gabriel/Documents/Stage/code/dustyV2/' #Replace with the path to the dusty directory\n",
    "\n",
    "dusty = Dusty(PATH=Path, Model=model)"
   ]
  },
  {
   "cell_type": "markdown",
   "metadata": {},
   "source": [
    "Once the dusty file is set with the model, we can import the data. To do this you can either import your own data like follow:"
   ]
  },
  {
   "cell_type": "code",
   "execution_count": 5,
   "metadata": {},
   "outputs": [
    {
     "ename": "FileNotFoundError",
     "evalue": "[Errno 2] No such file or directory: 'Path_to_Data'",
     "output_type": "error",
     "traceback": [
      "\u001b[0;31m---------------------------------------------------------------------------\u001b[0m",
      "\u001b[0;31mFileNotFoundError\u001b[0m                         Traceback (most recent call last)",
      "Cell \u001b[0;32mIn[5], line 5\u001b[0m\n\u001b[1;32m      1\u001b[0m \u001b[38;5;28;01mfrom\u001b[39;00m \u001b[38;5;21;01mDustyPY\u001b[39;00m\u001b[38;5;21;01m.\u001b[39;00m\u001b[38;5;21;01mData\u001b[39;00m \u001b[38;5;28;01mimport\u001b[39;00m Data\n\u001b[1;32m      3\u001b[0m data \u001b[38;5;241m=\u001b[39m Data()\n\u001b[0;32m----> 5\u001b[0m d \u001b[38;5;241m=\u001b[39m \u001b[43mdata\u001b[49m\u001b[38;5;241;43m.\u001b[39;49m\u001b[43mImportData\u001b[49m\u001b[43m(\u001b[49m\u001b[38;5;124;43m'\u001b[39;49m\u001b[38;5;124;43mPath_to_Data\u001b[39;49m\u001b[38;5;124;43m'\u001b[39;49m\u001b[43m)\u001b[49m \u001b[38;5;66;03m#Replace with the path to the data\u001b[39;00m\n\u001b[1;32m      7\u001b[0m data\u001b[38;5;241m.\u001b[39mset_xdata(xdata) \u001b[38;5;66;03m#Replace with the x data, Wavelength in microns\u001b[39;00m\n\u001b[1;32m      8\u001b[0m data\u001b[38;5;241m.\u001b[39mset_ydata(ydata) \u001b[38;5;66;03m#Replace with the y data, Flux in W/m2 or Jy\u001b[39;00m\n",
      "File \u001b[0;32m~/miniconda3/envs/SFit/lib/python3.13/site-packages/DustyPY/Data.py:121\u001b[0m, in \u001b[0;36mData.ImportData\u001b[0;34m(self, Path)\u001b[0m\n\u001b[1;32m    119\u001b[0m     \u001b[38;5;28;01mreturn\u001b[39;00m utils\u001b[38;5;241m.\u001b[39mLoadFits(Path)\n\u001b[1;32m    120\u001b[0m \u001b[38;5;28;01melse\u001b[39;00m:\n\u001b[0;32m--> 121\u001b[0m     \u001b[38;5;28;01mreturn\u001b[39;00m \u001b[43mutils\u001b[49m\u001b[38;5;241;43m.\u001b[39;49m\u001b[43mLoadFile\u001b[49m\u001b[43m(\u001b[49m\u001b[43mPath\u001b[49m\u001b[43m)\u001b[49m\n",
      "File \u001b[0;32m~/miniconda3/envs/SFit/lib/python3.13/site-packages/DustyPY/utils.py:128\u001b[0m, in \u001b[0;36mLoadFile\u001b[0;34m(Path)\u001b[0m\n\u001b[1;32m    118\u001b[0m \u001b[38;5;28;01mdef\u001b[39;00m \u001b[38;5;21mLoadFile\u001b[39m(Path):\n\u001b[1;32m    119\u001b[0m \u001b[38;5;250m    \u001b[39m\u001b[38;5;124;03m\"\"\"Load a file in an array\u001b[39;00m\n\u001b[1;32m    120\u001b[0m \n\u001b[1;32m    121\u001b[0m \u001b[38;5;124;03m    Args:\u001b[39;00m\n\u001b[0;32m   (...)\u001b[0m\n\u001b[1;32m    125\u001b[0m \u001b[38;5;124;03m        array: array containing the lines of the file\u001b[39;00m\n\u001b[1;32m    126\u001b[0m \u001b[38;5;124;03m    \"\"\"\u001b[39;00m\n\u001b[0;32m--> 128\u001b[0m     \u001b[38;5;28;01mwith\u001b[39;00m \u001b[38;5;28;43mopen\u001b[39;49m\u001b[43m(\u001b[49m\u001b[43mPath\u001b[49m\u001b[43m \u001b[49m\u001b[43m,\u001b[49m\u001b[43m \u001b[49m\u001b[38;5;124;43m'\u001b[39;49m\u001b[38;5;124;43mr\u001b[39;49m\u001b[38;5;124;43m'\u001b[39;49m\u001b[43m)\u001b[49m \u001b[38;5;28;01mas\u001b[39;00m f:\n\u001b[1;32m    129\u001b[0m         \u001b[38;5;28;01mreturn\u001b[39;00m f\u001b[38;5;241m.\u001b[39mreadlines()\n",
      "\u001b[0;31mFileNotFoundError\u001b[0m: [Errno 2] No such file or directory: 'Path_to_Data'"
     ]
    }
   ],
   "source": [
    "from DustyPY.Data import Data\n",
    "\n",
    "data = Data()\n",
    "\n",
    "d = data.ImportData('Path_to_Data') #Replace with the path to the data\n",
    "\n",
    "data.set_xdata(xdata) #Replace with the x data, Wavelength in microns\n",
    "data.set_ydata(ydata) #Replace with the y data, Flux in W/m2 or Jy\n",
    "data.set_yerr(yerr)"
   ]
  },
  {
   "cell_type": "markdown",
   "metadata": {},
   "source": [
    "Or you can use the built in querry to reitrive the photometry from Vizier:"
   ]
  },
  {
   "cell_type": "code",
   "execution_count": 6,
   "metadata": {},
   "outputs": [],
   "source": [
    "\n",
    "Dat = Data()\n",
    "\n",
    "table = Dat.QuerryVizierData(radius = 5, target='Betelgeuse')\n",
    "Dat.SetVizierData(table)"
   ]
  },
  {
   "cell_type": "markdown",
   "metadata": {},
   "source": [
    "If needed, you can restrict the data to a subset using the method RestrictData():"
   ]
  },
  {
   "cell_type": "code",
   "execution_count": 11,
   "metadata": {},
   "outputs": [
    {
     "data": {
      "image/png": "[encoded data removed]",
      "text/plain": [
       "<Figure size 1000x500 with 2 Axes>"
      ]
     },
     "metadata": {},
     "output_type": "display_data"
    }
   ],
   "source": [
    "import matplotlib.pyplot as plt\n",
    "\n",
    "fig,(ax1,ax2) = plt.subplots(1,2, sharey=True,figsize=(10,5))\n",
    "\n",
    "Dat.ScatterData(xlim=(0,5),ylim=(0,5e4), ax=ax1, kwargs={'fmt':'+', 'color':'r'})\n",
    "Dat.RestrictData(['ydata > 20000'])\n",
    "Dat.ScatterData(xlim=(0,5),ylim=(0,5e4), ax=ax2, kwargs={'fmt':'+', 'color':'r'})\n"
   ]
  },
  {
   "cell_type": "markdown",
   "metadata": {},
   "source": [
    "### Lunch Model\n",
    "\n",
    "Once the model is setup, you can lunch dusty and extract the results."
   ]
  },
  {
   "cell_type": "code",
   "execution_count": 13,
   "metadata": {},
   "outputs": [
    {
     "ename": "Exception",
     "evalue": "This line does dot exist: tau0",
     "output_type": "error",
     "traceback": [
      "\u001b[0;31m---------------------------------------------------------------------------\u001b[0m",
      "\u001b[0;31mException\u001b[0m                                 Traceback (most recent call last)",
      "Cell \u001b[0;32mIn[13], line 7\u001b[0m\n\u001b[1;32m      3\u001b[0m dusty\u001b[38;5;241m.\u001b[39mLunchDusty()\n\u001b[1;32m      6\u001b[0m \u001b[38;5;66;03m#Retrieve the results SED and plot it\u001b[39;00m\n\u001b[0;32m----> 7\u001b[0m \u001b[43mdusty\u001b[49m\u001b[38;5;241;43m.\u001b[39;49m\u001b[43mMakeSED\u001b[49m\u001b[43m(\u001b[49m\u001b[43mdistance\u001b[49m\u001b[38;5;241;43m=\u001b[39;49m\u001b[43mdusty\u001b[49m\u001b[38;5;241;43m.\u001b[39;49m\u001b[43mget_Model\u001b[49m\u001b[43m(\u001b[49m\u001b[43m)\u001b[49m\u001b[38;5;241;43m.\u001b[39;49m\u001b[43mget_Distance\u001b[49m\u001b[43m(\u001b[49m\u001b[43m)\u001b[49m\u001b[43m)\u001b[49m\n\u001b[1;32m      9\u001b[0m fig,ax \u001b[38;5;241m=\u001b[39m plt\u001b[38;5;241m.\u001b[39msubplots()\n\u001b[1;32m     10\u001b[0m dusty\u001b[38;5;241m.\u001b[39mPlotSED(xlim\u001b[38;5;241m=\u001b[39m(\u001b[38;5;241m0\u001b[39m,\u001b[38;5;241m5\u001b[39m),ylim\u001b[38;5;241m=\u001b[39m(\u001b[38;5;241m0\u001b[39m,\u001b[38;5;241m100\u001b[39m), ax\u001b[38;5;241m=\u001b[39max, kwargs\u001b[38;5;241m=\u001b[39m{\u001b[38;5;124m'\u001b[39m\u001b[38;5;124mcolor\u001b[39m\u001b[38;5;124m'\u001b[39m:\u001b[38;5;124m'\u001b[39m\u001b[38;5;124mk\u001b[39m\u001b[38;5;124m'\u001b[39m})\n",
      "File \u001b[0;32m~/miniconda3/envs/SFit/lib/python3.13/site-packages/DustyPY/dusty.py:158\u001b[0m, in \u001b[0;36mDusty.MakeSED\u001b[0;34m(self, distance, Jansky, um)\u001b[0m\n\u001b[1;32m    147\u001b[0m \u001b[38;5;250m\u001b[39m\u001b[38;5;124;03m\"\"\"\u001b[39;00m\n\u001b[1;32m    148\u001b[0m \u001b[38;5;124;03mGenerates the Spectral Energy Distribution (SED) for the given distance.\u001b[39;00m\n\u001b[1;32m    149\u001b[0m \u001b[38;5;124;03m\u001b[39;00m\n\u001b[0;32m   (...)\u001b[0m\n\u001b[1;32m    153\u001b[0m \u001b[38;5;124;03mum (bool, optional): If True, keeps the wavelength in micrometers. If False, converts to meters. Defaults to True.\u001b[39;00m\n\u001b[1;32m    154\u001b[0m \u001b[38;5;124;03m\"\"\"\u001b[39;00m\n\u001b[1;32m    156\u001b[0m distance \u001b[38;5;241m=\u001b[39m distance \u001b[38;5;241m*\u001b[39m constants\u001b[38;5;241m.\u001b[39mpc\n\u001b[0;32m--> 158\u001b[0m results \u001b[38;5;241m=\u001b[39m \u001b[38;5;28;43mself\u001b[39;49m\u001b[38;5;241;43m.\u001b[39;49m\u001b[43mGetResults\u001b[49m\u001b[43m(\u001b[49m\u001b[43m)\u001b[49m\n\u001b[1;32m    160\u001b[0m r_vrai \u001b[38;5;241m=\u001b[39m utils\u001b[38;5;241m.\u001b[39mCalculRayonVrai(results,\u001b[38;5;28mself\u001b[39m\u001b[38;5;241m.\u001b[39m_Lest)\n\u001b[1;32m    161\u001b[0m FTot \u001b[38;5;241m=\u001b[39m utils\u001b[38;5;241m.\u001b[39mCalculFluxTotal(results[\u001b[38;5;124m'\u001b[39m\u001b[38;5;124mF1(W/m2)\u001b[39m\u001b[38;5;124m'\u001b[39m],r_vrai,distance)\n",
      "File \u001b[0;32m~/miniconda3/envs/SFit/lib/python3.13/site-packages/DustyPY/dusty.py:139\u001b[0m, in \u001b[0;36mDusty.GetResults\u001b[0;34m(self)\u001b[0m\n\u001b[1;32m    131\u001b[0m \u001b[38;5;250m\u001b[39m\u001b[38;5;124;03m\"\"\"\u001b[39;00m\n\u001b[1;32m    132\u001b[0m \u001b[38;5;124;03mRetrieves the results of the Dusty simulation.\u001b[39;00m\n\u001b[1;32m    133\u001b[0m \n\u001b[1;32m    134\u001b[0m \u001b[38;5;124;03mReturns:\u001b[39;00m\n\u001b[1;32m    135\u001b[0m \u001b[38;5;124;03mdict: A dictionary containing the results of the Dusty simulation.\u001b[39;00m\n\u001b[1;32m    136\u001b[0m \u001b[38;5;124;03m\"\"\"\u001b[39;00m\n\u001b[1;32m    138\u001b[0m result_file \u001b[38;5;241m=\u001b[39m utils\u001b[38;5;241m.\u001b[39mLoadFile(\u001b[38;5;28mself\u001b[39m\u001b[38;5;241m.\u001b[39m_dustyPath\u001b[38;5;241m+\u001b[39m\u001b[38;5;28mself\u001b[39m\u001b[38;5;241m.\u001b[39m_Model\u001b[38;5;241m.\u001b[39mget_Name()\u001b[38;5;241m+\u001b[39m\u001b[38;5;124m'\u001b[39m\u001b[38;5;124m.out\u001b[39m\u001b[38;5;124m'\u001b[39m)\n\u001b[0;32m--> 139\u001b[0m line \u001b[38;5;241m=\u001b[39m result_file[\u001b[43mutils\u001b[49m\u001b[38;5;241;43m.\u001b[39;49m\u001b[43mSearchLine\u001b[49m\u001b[43m(\u001b[49m\u001b[43mresult_file\u001b[49m\u001b[43m,\u001b[49m\u001b[38;5;124;43m'\u001b[39;49m\u001b[38;5;124;43mtau0\u001b[39;49m\u001b[38;5;124;43m'\u001b[39;49m\u001b[43m)\u001b[49m]\u001b[38;5;241m.\u001b[39msplit(\u001b[38;5;124m'\u001b[39m\u001b[38;5;124m \u001b[39m\u001b[38;5;124m'\u001b[39m)\n\u001b[1;32m    140\u001b[0m keys \u001b[38;5;241m=\u001b[39m utils\u001b[38;5;241m.\u001b[39mSuppCarList(line, [\u001b[38;5;124m'\u001b[39m\u001b[38;5;124m###\u001b[39m\u001b[38;5;124m'\u001b[39m,\u001b[38;5;124m'\u001b[39m\u001b[38;5;124m'\u001b[39m,\u001b[38;5;124m'\u001b[39m\u001b[38;5;130;01m\\n\u001b[39;00m\u001b[38;5;124m'\u001b[39m])\n\u001b[1;32m    141\u001b[0m line \u001b[38;5;241m=\u001b[39m result_file[utils\u001b[38;5;241m.\u001b[39mSearchLine(result_file,\u001b[38;5;124m'\u001b[39m\u001b[38;5;124mtau0\u001b[39m\u001b[38;5;124m'\u001b[39m) \u001b[38;5;241m+\u001b[39m \u001b[38;5;241m3\u001b[39m]\u001b[38;5;241m.\u001b[39msplit(\u001b[38;5;124m'\u001b[39m\u001b[38;5;124m \u001b[39m\u001b[38;5;124m'\u001b[39m)\n",
      "File \u001b[0;32m~/miniconda3/envs/SFit/lib/python3.13/site-packages/DustyPY/utils.py:171\u001b[0m, in \u001b[0;36mSearchLine\u001b[0;34m(file, line)\u001b[0m\n\u001b[1;32m    169\u001b[0m     \u001b[38;5;28;01mif\u001b[39;00m line \u001b[38;5;129;01min\u001b[39;00m lines:\n\u001b[1;32m    170\u001b[0m         \u001b[38;5;28;01mreturn\u001b[39;00m i \n\u001b[0;32m--> 171\u001b[0m \u001b[38;5;28;01mraise\u001b[39;00m \u001b[38;5;167;01mException\u001b[39;00m(\u001b[38;5;124mf\u001b[39m\u001b[38;5;124m'\u001b[39m\u001b[38;5;124mThis line does dot exist: \u001b[39m\u001b[38;5;132;01m{\u001b[39;00mline\u001b[38;5;132;01m}\u001b[39;00m\u001b[38;5;124m'\u001b[39m)\n",
      "\u001b[0;31mException\u001b[0m: This line does dot exist: tau0"
     ]
    }
   ],
   "source": [
    "#Change the parameter file and lunch dusty\n",
    "dusty.ChangeParameter()\n",
    "dusty.LunchDusty()\n",
    "\n",
    "\n",
    "#Retrieve the results SED and plot it\n",
    "dusty.MakeSED(distance=dusty.get_Model().get_Distance())\n",
    "\n",
    "fig,ax = plt.subplots()\n",
    "dusty.PlotSED(xlim=(0,5),ylim=(0,100), ax=ax, kwargs={'color':'k'})"
   ]
  },
  {
   "cell_type": "code",
   "execution_count": null,
   "metadata": {},
   "outputs": [],
   "source": []
  }
 ],
 "metadata": {
  "kernelspec": {
   "display_name": "SFit",
   "language": "python",
   "name": "python3"
  },
  "language_info": {
   "codemirror_mode": {
    "name": "ipython",
    "version": 3
   },
   "file_extension": ".py",
   "mimetype": "text/x-python",
   "name": "python",
   "nbconvert_exporter": "python",
   "pygments_lexer": "ipython3",
   "version": "3.13.0"
  }
 },
 "nbformat": 4,
 "nbformat_minor": 2
}
