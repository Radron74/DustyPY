{
 "cells": [
  {
   "cell_type": "markdown",
   "metadata": {},
   "source": [
    "# Example Jupyter Notebook\n",
    "\n",
    "Here I present an exemple of how to use DustyPY. In this tutorial we will Betelgeuse as an exemple."
   ]
  },
  {
   "cell_type": "markdown",
   "metadata": {},
   "source": [
    "### Importation\n",
    "\n",
    "The first thing to do is to create your model. In the case of Betelgeuse, we have a single star with a Temperature around 3500 K:\n"
   ]
  },
  {
   "cell_type": "code",
   "execution_count": 5,
   "metadata": {},
   "outputs": [],
   "source": [
    "from DustyPY.stars import Star\n",
    "\n",
    "S = Star(Name='E1',Temperature=3500,Luminosity=1)"
   ]
  },
  {
   "cell_type": "markdown",
   "metadata": {},
   "source": [
    "Note: For a single star, the Luminosity must always be 1 as it is the contribution of this star to the total luminosity of the model."
   ]
  },
  {
   "cell_type": "markdown",
   "metadata": {},
   "source": [
    "Then we need to create the dust around. We refer to this paper for the dust composition and grain size distribution [Cannon et al. 2023](https://ui.adsabs.harvard.edu/abs/2023A&A...675A..46C)"
   ]
  },
  {
   "cell_type": "markdown",
   "metadata": {},
   "source": []
  },
  {
   "cell_type": "code",
   "execution_count": 6,
   "metadata": {},
   "outputs": [],
   "source": [
    "from DustyPY.stars import Dust\n",
    "\n",
    "Composition = {'Al2O3':0.2,'MgFeSiO4':0.16,'Ca2Al2SiO7':0.64}\n",
    "DustSize = {'amin' : 0.01, 'amax': 1}  #Size in microns\n",
    "tau = 0.1 #Optical depth of the dust shell at 0.55 microns to be fitted\n",
    "\n",
    "dust = Dust(Composition=Composition, DustSize=DustSize, tau=tau)"
   ]
  },
  {
   "cell_type": "markdown",
   "metadata": {},
   "source": [
    "With this we can create our model:"
   ]
  },
  {
   "cell_type": "code",
   "execution_count": null,
   "metadata": {},
   "outputs": [],
   "source": [
    "from DustyPY.stars import Model\n",
    "\n",
    "model = Model(Name='Betelgeuse', NbStar=1,Star=list(S), Dust=dust, distance = 197.0)"
   ]
  }
 ],
 "metadata": {
  "kernelspec": {
   "display_name": "SFit",
   "language": "python",
   "name": "python3"
  },
  "language_info": {
   "codemirror_mode": {
    "name": "ipython",
    "version": 3
   },
   "file_extension": ".py",
   "mimetype": "text/x-python",
   "name": "python",
   "nbconvert_exporter": "python",
   "pygments_lexer": "ipython3",
   "version": "3.13.0"
  }
 },
 "nbformat": 4,
 "nbformat_minor": 2
}
