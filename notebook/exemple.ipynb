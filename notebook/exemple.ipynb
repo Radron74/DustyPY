{
 "cells": [
  // ...existing code...
  {
   "cell_type": "code",
   "execution_count": 5,
   "metadata": {},
   "outputs": [],
   "source": [
    "from DustyPY.Data import Data\n",
    "Dat = Data()\n",
    "\n",
    "table = Dat.querry_vizier_data(radius = 5, target='Betelgeuse')\n",
    "Dat.set_vizier_data(table)"
   ]
  },
  // ...existing code...
  {
   "cell_type": "code",
   "execution_count": 9,
   "metadata": {},
   "outputs": [],
   "source": [
    "#Querry the data\n",
    "table = Dat.querry_vizier_data(radius = 5, target='Betelgeuse')\n",
    "Dat.set_vizier_data(table)\n",
    "\n",
    "#To fit data the error must be different from 0 so we restrict the data\n",
    "Dat.RestrictData(['yerr != 0.'])"
   ]
  },
  // ...existing code...
  {
   "cell_type": "code",
   "execution_count": 7,
   "metadata": {},
   "outputs": [
    {
     "data": {


     },
     "metadata": {},
     "output_type": "display_data"
    }
   ],
   "source": [
    "fig,(ax1,ax2) = plt.subplots(1,2, sharey=True,figsize=(10,5))\n",
    "\n",
    "Dat.set_vizier_data(table)\n",
    "Dat.ScatterData(xlim=(0,5),ylim=(0,7e4), ax=ax1, kwargs={'fmt':'+', 'color':'r'})\n",
    "Dat.UnredData(EBV=0.470)\n",
    "Dat.ScatterData(xlim=(0,5),ylim=(0,7e4), ax=ax2, kwargs={'fmt':'+', 'color':'r'})\n"
   ]
  },
  // ...existing code...
 ]
}
